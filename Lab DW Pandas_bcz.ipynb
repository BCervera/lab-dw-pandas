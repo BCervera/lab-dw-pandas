{
 "cells": [
  {
   "cell_type": "markdown",
   "id": "25d7736c-ba17-4aff-b6bb-66eba20fbf4e",
   "metadata": {},
   "source": [
    "# Lab | Pandas"
   ]
  },
  {
   "cell_type": "markdown",
   "id": "d1973e9e-8be6-4039-b70e-d73ee0d94c99",
   "metadata": {},
   "source": [
    "In this lab, we will be working with the customer data from an insurance company, which can be found in the CSV file located at the following link: https://raw.githubusercontent.com/data-bootcamp-v4/data/main/file1.csv\n",
    "\n",
    "The data includes information such as customer ID, state, gender, education, income, and other variables that can be used to perform various analyses.\n",
    "\n",
    "Throughout the lab, we will be using the pandas library in Python to manipulate and analyze the data. Pandas is a powerful library that provides various data manipulation and analysis tools, including the ability to load and manipulate data from a variety of sources, including CSV files."
   ]
  },
  {
   "cell_type": "markdown",
   "id": "8045146f-f4f7-44d9-8cd9-130d6400c73a",
   "metadata": {},
   "source": [
    "### Data Description\n",
    "\n",
    "- Customer - Customer ID\n",
    "\n",
    "- ST - State where customers live\n",
    "\n",
    "- Gender - Gender of the customer\n",
    "\n",
    "- Education - Background education of customers \n",
    "\n",
    "- Customer Lifetime Value - Customer lifetime value(CLV) is the total revenue the client will derive from their entire relationship with a customer. In other words, is the predicted or calculated value of a customer over their entire duration as a policyholder with the insurance company. It is an estimation of the net profit that the insurance company expects to generate from a customer throughout their relationship with the company. Customer Lifetime Value takes into account factors such as the duration of the customer's policy, premium payments, claim history, renewal likelihood, and potential additional services or products the customer may purchase. It helps insurers assess the long-term profitability and value associated with retaining a particular customer.\n",
    "\n",
    "- Income - Customers income\n",
    "\n",
    "- Monthly Premium Auto - Amount of money the customer pays on a monthly basis as a premium for their auto insurance coverage. It represents the recurring cost that the insured person must pay to maintain their insurance policy and receive coverage for potential damages, accidents, or other covered events related to their vehicle.\n",
    "\n",
    "- Number of Open Complaints - Number of complaints the customer opened\n",
    "\n",
    "- Policy Type - There are three type of policies in car insurance (Corporate Auto, Personal Auto, and Special Auto)\n",
    "\n",
    "- Vehicle Class - Type of vehicle classes that customers have Two-Door Car, Four-Door Car SUV, Luxury SUV, Sports Car, and Luxury Car\n",
    "\n",
    "- Total Claim Amount - the sum of all claims made by the customer. It represents the total monetary value of all approved claims for incidents such as accidents, theft, vandalism, or other covered events.\n"
   ]
  },
  {
   "cell_type": "markdown",
   "id": "3a72419b-20fc-4905-817a-8c83abc59de6",
   "metadata": {},
   "source": [
    "External Resources: https://towardsdatascience.com/filtering-data-frames-in-pandas-b570b1f834b9"
   ]
  },
  {
   "cell_type": "markdown",
   "id": "8f8ece17-e919-4e23-96c0-c7c59778436a",
   "metadata": {},
   "source": [
    "## Challenge 1: Understanding the data\n",
    "\n",
    "In this challenge, you will use pandas to explore a given dataset. Your task is to gain a deep understanding of the data by analyzing its characteristics, dimensions, and statistical properties."
   ]
  },
  {
   "cell_type": "markdown",
   "id": "91437bd5-59a6-49c0-8150-ef0e6e6eb253",
   "metadata": {},
   "source": [
    "- Identify the dimensions of the dataset by determining the number of rows and columns it contains.\n",
    "- Determine the data types of each column and evaluate whether they are appropriate for the nature of the variable. You should also provide suggestions for fixing any incorrect data types.\n",
    "- Identify the number of unique values for each column and determine which columns appear to be categorical. You should also describe the unique values of each categorical column and the range of values for numerical columns, and give your insights.\n",
    "- Compute summary statistics such as mean, median, mode, standard deviation, and quartiles to understand the central tendency and distribution of the data for numerical columns. You should also provide your conclusions based on these summary statistics.\n",
    "- Compute summary statistics for categorical columns and providing your conclusions based on these statistics."
   ]
  },
  {
   "cell_type": "code",
   "execution_count": 1,
   "id": "dd4e8cd8-a6f6-486c-a5c4-1745b0c035f4",
   "metadata": {},
   "outputs": [
    {
     "name": "stdout",
     "output_type": "stream",
     "text": [
      "  Customer          ST GENDER             Education Customer Lifetime Value  \\\n",
      "0  RB50392  Washington    NaN                Master                     NaN   \n",
      "1  QZ44356     Arizona      F              Bachelor              697953.59%   \n",
      "2  AI49188      Nevada      F              Bachelor             1288743.17%   \n",
      "3  WW63253  California      M              Bachelor              764586.18%   \n",
      "4  GA49547  Washington      M  High School or Below              536307.65%   \n",
      "\n",
      "    Income  Monthly Premium Auto Number of Open Complaints     Policy Type  \\\n",
      "0      0.0                1000.0                    1/0/00   Personal Auto   \n",
      "1      0.0                  94.0                    1/0/00   Personal Auto   \n",
      "2  48767.0                 108.0                    1/0/00   Personal Auto   \n",
      "3      0.0                 106.0                    1/0/00  Corporate Auto   \n",
      "4  36357.0                  68.0                    1/0/00   Personal Auto   \n",
      "\n",
      "   Vehicle Class  Total Claim Amount  \n",
      "0  Four-Door Car            2.704934  \n",
      "1  Four-Door Car         1131.464935  \n",
      "2   Two-Door Car          566.472247  \n",
      "3            SUV          529.881344  \n",
      "4  Four-Door Car           17.269323  \n"
     ]
    }
   ],
   "source": [
    "# Your code here\n",
    "import pandas as pd\n",
    "\n",
    "url = \"https://raw.githubusercontent.com/data-bootcamp-v4/data/main/file1.csv\"\n",
    "df = pd.read_csv(url)\n",
    "\n",
    "print(df.head())"
   ]
  },
  {
   "cell_type": "code",
   "execution_count": 3,
   "id": "e0b2930b",
   "metadata": {},
   "outputs": [
    {
     "name": "stdout",
     "output_type": "stream",
     "text": [
      "DataFrame Columns: Index(['Customer', 'ST', 'GENDER', 'Education', 'Customer Lifetime Value',\n",
      "       'Income', 'Monthly Premium Auto', 'Number of Open Complaints',\n",
      "       'Policy Type', 'Vehicle Class', 'Total Claim Amount'],\n",
      "      dtype='object')\n",
      "Data types:\n",
      " Customer                      object\n",
      "ST                            object\n",
      "GENDER                        object\n",
      "Education                     object\n",
      "Customer Lifetime Value       object\n",
      "Income                       float64\n",
      "Monthly Premium Auto         float64\n",
      "Number of Open Complaints     object\n",
      "Policy Type                   object\n",
      "Vehicle Class                 object\n",
      "Total Claim Amount           float64\n",
      "dtype: object\n",
      "Stadistics:\n",
      "              Income  Monthly Premium Auto  Total Claim Amount\n",
      "count   1071.000000           1071.000000         1071.000000\n",
      "mean   39295.701214            193.234360          404.986909\n",
      "std    30469.427060           1601.190369          293.027260\n",
      "min        0.000000             61.000000            0.382107\n",
      "25%    14072.000000             68.000000          202.157702\n",
      "50%    36234.000000             83.000000          354.729129\n",
      "75%    64631.000000            109.500000          532.800000\n",
      "max    99960.000000          35354.000000         2893.239678\n",
      "Nulls:\n",
      " Customer                     2937\n",
      "ST                           2937\n",
      "GENDER                       3054\n",
      "Education                    2937\n",
      "Customer Lifetime Value      2940\n",
      "Income                       2937\n",
      "Monthly Premium Auto         2937\n",
      "Number of Open Complaints    2937\n",
      "Policy Type                  2937\n",
      "Vehicle Class                2937\n",
      "Total Claim Amount           2937\n",
      "dtype: int64\n"
     ]
    }
   ],
   "source": [
    "\n",
    "print(\"DataFrame Columns:\", df.columns)\n",
    "print(\"Data types:\\n\", df.dtypes)\n",
    "print(\"Stadistics:\\n\", df.describe())\n",
    "print(\"Nulls:\\n\", df.isnull().sum())"
   ]
  },
  {
   "cell_type": "code",
   "execution_count": 4,
   "id": "d7840dfe",
   "metadata": {},
   "outputs": [
    {
     "name": "stdout",
     "output_type": "stream",
     "text": [
      "Dimension: (4008, 11)\n",
      "\n",
      "Information:\n",
      "<class 'pandas.core.frame.DataFrame'>\n",
      "RangeIndex: 4008 entries, 0 to 4007\n",
      "Data columns (total 11 columns):\n",
      " #   Column                     Non-Null Count  Dtype  \n",
      "---  ------                     --------------  -----  \n",
      " 0   Customer                   1071 non-null   object \n",
      " 1   ST                         1071 non-null   object \n",
      " 2   GENDER                     954 non-null    object \n",
      " 3   Education                  1071 non-null   object \n",
      " 4   Customer Lifetime Value    1068 non-null   object \n",
      " 5   Income                     1071 non-null   float64\n",
      " 6   Monthly Premium Auto       1071 non-null   float64\n",
      " 7   Number of Open Complaints  1071 non-null   object \n",
      " 8   Policy Type                1071 non-null   object \n",
      " 9   Vehicle Class              1071 non-null   object \n",
      " 10  Total Claim Amount         1071 non-null   float64\n",
      "dtypes: float64(3), object(8)\n",
      "memory usage: 344.6+ KB\n",
      "None\n"
     ]
    }
   ],
   "source": [
    "print(\"Dimension:\", df.shape)\n",
    "print(\"\\nInformation:\")\n",
    "print(df.info())"
   ]
  },
  {
   "cell_type": "code",
   "execution_count": 5,
   "id": "9dd2a8c1",
   "metadata": {},
   "outputs": [
    {
     "name": "stdout",
     "output_type": "stream",
     "text": [
      "\n",
      "Tipos de datos por columna:\n",
      "Customer                      object\n",
      "ST                            object\n",
      "GENDER                        object\n",
      "Education                     object\n",
      "Customer Lifetime Value       object\n",
      "Income                       float64\n",
      "Monthly Premium Auto         float64\n",
      "Number of Open Complaints     object\n",
      "Policy Type                   object\n",
      "Vehicle Class                 object\n",
      "Total Claim Amount           float64\n",
      "dtype: object\n"
     ]
    }
   ],
   "source": [
    "print(\"\\nTipos de datos por columna:\")\n",
    "print(df.dtypes)\n",
    "\n",
    "if df['Income'].dtype == 'object':\n",
    "    try:\n",
    "        df['Income'] = df['Income'].str.replace(',', '').astype(float) \n",
    "        print(\"'Income' converted too float.\")\n",
    "    except:\n",
    "        print(\"Error converting 'Income'. Check nulls\")"
   ]
  },
  {
   "cell_type": "code",
   "execution_count": 9,
   "id": "e95583f3",
   "metadata": {},
   "outputs": [
    {
     "name": "stdout",
     "output_type": "stream",
     "text": [
      "\n",
      "Unique values:\n",
      "Customer                     1071\n",
      "ST                              8\n",
      "GENDER                          5\n",
      "Education                       6\n",
      "Customer Lifetime Value      1027\n",
      "Income                        774\n",
      "Monthly Premium Auto          132\n",
      "Number of Open Complaints       6\n",
      "Policy Type                     3\n",
      "Vehicle Class                   6\n",
      "Total Claim Amount            761\n",
      "dtype: int64\n",
      "\n",
      "\n",
      "Customer:\n",
      "Customer\n",
      "RB50392    1\n",
      "HJ15383    1\n",
      "AO74776    1\n",
      "HQ82233    1\n",
      "OL72737    1\n",
      "          ..\n",
      "RO26085    1\n",
      "ES57969    1\n",
      "JK55587    1\n",
      "RN97635    1\n",
      "MY31220    1\n",
      "Name: count, Length: 1071, dtype: int64\n",
      "\n",
      "ST:\n",
      "ST\n",
      "Oregon        320\n",
      "California    211\n",
      "Arizona       186\n",
      "Cali          120\n",
      "Nevada         98\n",
      "Washington     81\n",
      "WA             30\n",
      "AZ             25\n",
      "Name: count, dtype: int64\n",
      "\n",
      "GENDER:\n",
      "GENDER\n",
      "F         457\n",
      "M         413\n",
      "Male       39\n",
      "female     28\n",
      "Femal      17\n",
      "Name: count, dtype: int64\n",
      "\n",
      "Education:\n",
      "Education\n",
      "Bachelor                324\n",
      "College                 313\n",
      "High School or Below    296\n",
      "Master                   94\n",
      "Doctor                   37\n",
      "Bachelors                 7\n",
      "Name: count, dtype: int64\n",
      "\n",
      "Customer Lifetime Value:\n",
      "Customer Lifetime Value\n",
      "445811.34%     4\n",
      "251459.20%     4\n",
      "272535.64%     3\n",
      "578018.22%     3\n",
      "684615.03%     3\n",
      "              ..\n",
      "245357.08%     1\n",
      "507566.27%     1\n",
      "321497.94%     1\n",
      "1227534.31%    1\n",
      "899704.02%     1\n",
      "Name: count, Length: 1027, dtype: int64\n",
      "\n",
      "Number of Open Complaints:\n",
      "Number of Open Complaints\n",
      "1/0/00    830\n",
      "1/1/00    138\n",
      "1/2/00     50\n",
      "1/3/00     34\n",
      "1/4/00     13\n",
      "1/5/00      6\n",
      "Name: count, dtype: int64\n",
      "\n",
      "Policy Type:\n",
      "Policy Type\n",
      "Personal Auto     780\n",
      "Corporate Auto    234\n",
      "Special Auto       57\n",
      "Name: count, dtype: int64\n",
      "\n",
      "Vehicle Class:\n",
      "Vehicle Class\n",
      "Four-Door Car    576\n",
      "Two-Door Car     205\n",
      "SUV              199\n",
      "Sports Car        57\n",
      "Luxury SUV        20\n",
      "Luxury Car        14\n",
      "Name: count, dtype: int64\n",
      "\n"
     ]
    }
   ],
   "source": [
    "print(\"\\nUnique values:\")\n",
    "print(df.nunique())\n",
    "\n",
    "categorical_columns = df.select_dtypes(include='object').columns\n",
    "print(\"\\n\")\n",
    "for col in categorical_columns:\n",
    "    print(f\"{col}:\")\n",
    "    print(df[col].value_counts())\n",
    "    print()"
   ]
  },
  {
   "cell_type": "code",
   "execution_count": 10,
   "id": "27340da6",
   "metadata": {},
   "outputs": [
    {
     "name": "stdout",
     "output_type": "stream",
     "text": [
      "             Income  Monthly Premium Auto  Total Claim Amount\n",
      "count   1071.000000           1071.000000         1071.000000\n",
      "mean   39295.701214            193.234360          404.986909\n",
      "std    30469.427060           1601.190369          293.027260\n",
      "min        0.000000             61.000000            0.382107\n",
      "25%    14072.000000             68.000000          202.157702\n",
      "50%    36234.000000             83.000000          354.729129\n",
      "75%    64631.000000            109.500000          532.800000\n",
      "max    99960.000000          35354.000000         2893.239678\n",
      "Income:\n",
      "- Mean: 39295.70\n",
      "- Median: 36234.00\n",
      "- Mode: 0.00\n",
      "- Standard desviation: 30469.43\n",
      "\n",
      "Monthly Premium Auto:\n",
      "- Mean: 193.23\n",
      "- Median: 83.00\n",
      "- Mode: 65.00\n",
      "- Standard desviation: 1601.19\n",
      "\n",
      "Total Claim Amount:\n",
      "- Mean: 404.99\n",
      "- Median: 354.73\n",
      "- Mode: 321.60\n",
      "- Standard desviation: 293.03\n",
      "\n"
     ]
    }
   ],
   "source": [
    "print(df.describe())\n",
    "\n",
    "for col in df.select_dtypes(include=['float64', 'int64']).columns:\n",
    "    print(f\"{col}:\")\n",
    "    print(f\"- Mean: {df[col].mean():.2f}\")\n",
    "    print(f\"- Median: {df[col].median():.2f}\")\n",
    "    print(f\"- Mode: {df[col].mode()[0]:.2f}\")\n",
    "    print(f\"- Standard desviation: {df[col].std():.2f}\")\n",
    "    print()"
   ]
  },
  {
   "cell_type": "code",
   "execution_count": 11,
   "id": "972500c9",
   "metadata": {},
   "outputs": [
    {
     "name": "stdout",
     "output_type": "stream",
     "text": [
      "Customer:\n",
      "Customer\n",
      "RB50392    0.093371\n",
      "HJ15383    0.093371\n",
      "AO74776    0.093371\n",
      "HQ82233    0.093371\n",
      "OL72737    0.093371\n",
      "             ...   \n",
      "RO26085    0.093371\n",
      "ES57969    0.093371\n",
      "JK55587    0.093371\n",
      "RN97635    0.093371\n",
      "MY31220    0.093371\n",
      "Name: proportion, Length: 1071, dtype: float64\n",
      "\n",
      "ST:\n",
      "ST\n",
      "Oregon        29.878618\n",
      "California    19.701214\n",
      "Arizona       17.366947\n",
      "Cali          11.204482\n",
      "Nevada         9.150327\n",
      "Washington     7.563025\n",
      "WA             2.801120\n",
      "AZ             2.334267\n",
      "Name: proportion, dtype: float64\n",
      "\n",
      "GENDER:\n",
      "GENDER\n",
      "F         47.903564\n",
      "M         43.291405\n",
      "Male       4.088050\n",
      "female     2.935010\n",
      "Femal      1.781971\n",
      "Name: proportion, dtype: float64\n",
      "\n",
      "Education:\n",
      "Education\n",
      "Bachelor                30.252101\n",
      "College                 29.225023\n",
      "High School or Below    27.637722\n",
      "Master                   8.776844\n",
      "Doctor                   3.454715\n",
      "Bachelors                0.653595\n",
      "Name: proportion, dtype: float64\n",
      "\n",
      "Customer Lifetime Value:\n",
      "Customer Lifetime Value\n",
      "445811.34%     0.374532\n",
      "251459.20%     0.374532\n",
      "272535.64%     0.280899\n",
      "578018.22%     0.280899\n",
      "684615.03%     0.280899\n",
      "                 ...   \n",
      "245357.08%     0.093633\n",
      "507566.27%     0.093633\n",
      "321497.94%     0.093633\n",
      "1227534.31%    0.093633\n",
      "899704.02%     0.093633\n",
      "Name: proportion, Length: 1027, dtype: float64\n",
      "\n",
      "Number of Open Complaints:\n",
      "Number of Open Complaints\n",
      "1/0/00    77.497666\n",
      "1/1/00    12.885154\n",
      "1/2/00     4.668534\n",
      "1/3/00     3.174603\n",
      "1/4/00     1.213819\n",
      "1/5/00     0.560224\n",
      "Name: proportion, dtype: float64\n",
      "\n",
      "Policy Type:\n",
      "Policy Type\n",
      "Personal Auto     72.829132\n",
      "Corporate Auto    21.848739\n",
      "Special Auto       5.322129\n",
      "Name: proportion, dtype: float64\n",
      "\n",
      "Vehicle Class:\n",
      "Vehicle Class\n",
      "Four-Door Car    53.781513\n",
      "Two-Door Car     19.140990\n",
      "SUV              18.580766\n",
      "Sports Car        5.322129\n",
      "Luxury SUV        1.867414\n",
      "Luxury Car        1.307190\n",
      "Name: proportion, dtype: float64\n",
      "\n"
     ]
    }
   ],
   "source": [
    "for col in categorical_columns:\n",
    "    print(f\"{col}:\")\n",
    "    print(df[col].value_counts(normalize=True) * 100)  \n",
    "    print()"
   ]
  },
  {
   "cell_type": "markdown",
   "id": "4a703890-63db-4944-b7ab-95a4f8185120",
   "metadata": {},
   "source": [
    "## Challenge 2: analyzing the data"
   ]
  },
  {
   "cell_type": "markdown",
   "id": "0776a403-c56a-452f-ac33-5fd4fdb06fc7",
   "metadata": {},
   "source": [
    "### Exercise 1"
   ]
  },
  {
   "cell_type": "markdown",
   "id": "eedbc484-da4d-4f9c-9343-e1d44311a87e",
   "metadata": {},
   "source": [
    "The marketing team wants to know the top 5 less common customer locations. Create a pandas Series object that contains the customer locations and their frequencies, and then retrieve the top 5 less common locations in ascending order."
   ]
  },
  {
   "cell_type": "code",
   "execution_count": 12,
   "id": "2dca5073-4520-4f42-9390-4b92733284ed",
   "metadata": {},
   "outputs": [
    {
     "name": "stdout",
     "output_type": "stream",
     "text": [
      "ST\n",
      "Oregon        320\n",
      "California    211\n",
      "Arizona       186\n",
      "Cali          120\n",
      "Nevada         98\n",
      "Washington     81\n",
      "WA             30\n",
      "AZ             25\n",
      "Name: count, dtype: int64\n",
      "ST\n",
      "AZ             25\n",
      "WA             30\n",
      "Washington     81\n",
      "Nevada         98\n",
      "Cali          120\n",
      "Name: count, dtype: int64\n",
      "ST\n",
      "AZ             25\n",
      "Cali          120\n",
      "Nevada         98\n",
      "WA             30\n",
      "Washington     81\n",
      "Name: count, dtype: int64\n"
     ]
    }
   ],
   "source": [
    "location_frequencies = df['ST'].value_counts()\n",
    "print(location_frequencies)\n",
    "\n",
    "top_5_less_common = location_frequencies.nsmallest(5)\n",
    "print(top_5_less_common)\n",
    "\n",
    "top_5_less_common_sorted = top_5_less_common.sort_index()\n",
    "print(top_5_less_common_sorted)\n"
   ]
  },
  {
   "cell_type": "markdown",
   "id": "0ce80f43-4afa-43c7-a78a-c917444da4e0",
   "metadata": {},
   "source": [
    "### Exercise 2\n",
    "\n",
    "The sales team wants to know the total number of policies sold for each type of policy. Create a pandas Series object that contains the policy types and their total number of policies sold, and then retrieve the policy type with the highest number of policies sold."
   ]
  },
  {
   "cell_type": "markdown",
   "id": "a9f13997-1555-4f98-aca6-970fda1d2c3f",
   "metadata": {},
   "source": [
    "*Hint:*\n",
    "- *Using value_counts() method simplifies this analysis.*\n",
    "- *Futhermore, there is a method that returns the index of the maximum value in a column or row.*\n"
   ]
  },
  {
   "cell_type": "code",
   "execution_count": 13,
   "id": "bcfad6c1-9af2-4b0b-9aa9-0dc5c17473c0",
   "metadata": {},
   "outputs": [
    {
     "name": "stdout",
     "output_type": "stream",
     "text": [
      "Total # policies by type:\n",
      "Policy Type\n",
      "Personal Auto     780\n",
      "Corporate Auto    234\n",
      "Special Auto       57\n",
      "Name: count, dtype: int64\n",
      "\n",
      "The most sold type:\n",
      "Type: Personal Auto, Sold: 780\n"
     ]
    }
   ],
   "source": [
    "policy_counts = df['Policy Type'].value_counts()\n",
    "\n",
    "\n",
    "print(\"Total # policies by type:\")\n",
    "print(policy_counts)\n",
    "\n",
    "\n",
    "top_policy_type = policy_counts.idxmax()\n",
    "top_policy_count = policy_counts.max()\n",
    "\n",
    "\n",
    "print(\"\\nThe most sold type:\")\n",
    "print(f\"Type: {top_policy_type}, Sold: {top_policy_count}\")"
   ]
  },
  {
   "cell_type": "markdown",
   "id": "0b863fd3-bf91-4d5d-86eb-be29ed9f5b70",
   "metadata": {},
   "source": [
    "### Exercise 3\n",
    "\n",
    "The sales team wants to know if customers with Personal Auto have a lower income than those with Corporate Auto. How does the average income compare between the two policy types?"
   ]
  },
  {
   "cell_type": "markdown",
   "id": "b1386d75-2810-4aa1-93e0-9485aa12d552",
   "metadata": {},
   "source": [
    "- Use *loc* to create two dataframes: one containing only Personal Auto policies and one containing only Corporate Auto policies.\n",
    "- Calculate the average income for each policy.\n",
    "- Print the results."
   ]
  },
  {
   "cell_type": "code",
   "execution_count": 14,
   "id": "0c0563cf-6f8b-463d-a321-651a972f82e5",
   "metadata": {},
   "outputs": [
    {
     "name": "stdout",
     "output_type": "stream",
     "text": [
      "Average income for clients with policy type 'Personal Auto': $38180.70\n",
      "Average income for clients with policy type'Corporate Auto': $41390.31\n",
      "Clients with 'Personal Auto' policies have a lower average income than those with 'Corporate Auto' policies..\n"
     ]
    }
   ],
   "source": [
    "personal_auto_df = df.loc[df['Policy Type'] == 'Personal Auto']\n",
    "corporate_auto_df = df.loc[df['Policy Type'] == 'Corporate Auto']\n",
    "\n",
    "\n",
    "average_income_personal = personal_auto_df['Income'].mean()\n",
    "average_income_corporate = corporate_auto_df['Income'].mean()\n",
    "\n",
    "\n",
    "print(f\"Average income for clients with policy type 'Personal Auto': ${average_income_personal:.2f}\")\n",
    "print(f\"Average income for clients with policy type'Corporate Auto': ${average_income_corporate:.2f}\")\n",
    "\n",
    "\n",
    "if average_income_personal < average_income_corporate:\n",
    "    print(\"Clients with 'Personal Auto' policies have a lower average income than those with 'Corporate Auto' policies..\")\n",
    "else:\n",
    "    print(\"Clients with 'Corporate Auto' policies have a lower average income than those with 'Personal Auto' policies..\")"
   ]
  },
  {
   "cell_type": "markdown",
   "id": "80b16c27-f4a5-4727-a229-1f88671cf4e2",
   "metadata": {},
   "source": [
    "### Bonus: Exercise 4\n"
   ]
  },
  {
   "cell_type": "markdown",
   "id": "ac584986-299b-475f-ac2e-928c16c3f512",
   "metadata": {},
   "source": [
    "Your goal is to identify customers with a high policy claim amount.\n",
    "\n",
    "Instructions:\n",
    "\n",
    "- Review again the statistics for total claim amount to gain an understanding of the data.\n",
    "- To identify potential areas for improving customer retention and profitability, we want to focus on customers with a high policy claim amount. Consider customers with a high policy claim amount to be those in the top 25% of the total claim amount. Create a pandas DataFrame object that contains information about customers with a policy claim amount greater than the 75th percentile.\n",
    "- Use DataFrame methods to calculate summary statistics about the high policy claim amount data. "
   ]
  },
  {
   "cell_type": "markdown",
   "id": "4e3af5f1-6023-4b05-9c01-d05392daa650",
   "metadata": {},
   "source": [
    "*Note: When analyzing data, we often want to focus on certain groups of values to gain insights. Percentiles are a useful tool to help us define these groups. A percentile is a measure that tells us what percentage of values in a dataset are below a certain value. For example, the 75th percentile represents the value below which 75% of the data falls. Similarly, the 25th percentile represents the value below which 25% of the data falls. When we talk about the top 25%, we are referring to the values that fall above the 75th percentile, which represent the top quarter of the data. On the other hand, when we talk about the bottom 25%, we are referring to the values that fall below the 25th percentile, which represent the bottom quarter of the data. By focusing on these groups, we can identify patterns and trends that may be useful for making decisions and taking action.*\n",
    "\n",
    "*Hint: look for a method that gives you the percentile or quantile 0.75 and 0.25 for a Pandas Series.*"
   ]
  },
  {
   "cell_type": "markdown",
   "id": "2d234634-50bd-41e0-88f7-d5ba684455d1",
   "metadata": {},
   "source": [
    "*Hint 2: check `Boolean selection according to the values of a single column` in https://towardsdatascience.com/filtering-data-frames-in-pandas-b570b1f834b9*"
   ]
  },
  {
   "cell_type": "code",
   "execution_count": 15,
   "id": "b731bca6-a760-4860-a27b-a33efa712ce0",
   "metadata": {},
   "outputs": [
    {
     "name": "stdout",
     "output_type": "stream",
     "text": [
      "75th percentile of the total claim amount: 532.80\n",
      "\n",
      "Clients with high claim amounts (above the 75th percentile):\n",
      "   Customer          ST GENDER Education Customer Lifetime Value   Income  \\\n",
      "1   QZ44356     Arizona      F  Bachelor              697953.59%      0.0   \n",
      "2   AI49188      Nevada      F  Bachelor             1288743.17%  48767.0   \n",
      "17  OE15005        Cali    NaN   College              394524.16%  28855.0   \n",
      "23  TZ98966      Nevada    NaN  Bachelor              245019.10%      0.0   \n",
      "26  US89481  California    NaN  Bachelor              394637.21%      0.0   \n",
      "\n",
      "    Monthly Premium Auto Number of Open Complaints     Policy Type  \\\n",
      "1                   94.0                    1/0/00   Personal Auto   \n",
      "2                  108.0                    1/0/00   Personal Auto   \n",
      "17                 101.0                    1/0/00   Personal Auto   \n",
      "23                  73.0                    1/3/00  Corporate Auto   \n",
      "26                 111.0                    1/0/00   Personal Auto   \n",
      "\n",
      "    Vehicle Class  Total Claim Amount  \n",
      "1   Four-Door Car         1131.464935  \n",
      "2    Two-Door Car          566.472247  \n",
      "17            SUV          647.442031  \n",
      "23  Four-Door Car          554.376763  \n",
      "26  Four-Door Car          799.200000  \n",
      "\n",
      "Summary statistics for clients with high claim amounts:\n",
      "count     264.000000\n",
      "mean      782.228263\n",
      "std       292.751640\n",
      "min       537.600000\n",
      "25%       606.521741\n",
      "50%       679.597985\n",
      "75%       851.400000\n",
      "max      2893.239678\n",
      "Name: Total Claim Amount, dtype: float64\n"
     ]
    }
   ],
   "source": [
    "percentile_75 = df['Total Claim Amount'].quantile(0.75)\n",
    "print(f\"75th percentile of the total claim amount: {percentile_75:.2f}\")\n",
    "\n",
    "\n",
    "high_claim_customers = df[df['Total Claim Amount'] > percentile_75]\n",
    "\n",
    "print(\"\\nClients with high claim amounts (above the 75th percentile):\")\n",
    "print(high_claim_customers.head())\n",
    "\n",
    "summary_stats = high_claim_customers['Total Claim Amount'].describe()\n",
    "print(\"\\nSummary statistics for clients with high claim amounts:\")\n",
    "print(summary_stats)"
   ]
  },
  {
   "cell_type": "code",
   "execution_count": null,
   "id": "20549e8b",
   "metadata": {},
   "outputs": [],
   "source": []
  }
 ],
 "metadata": {
  "kernelspec": {
   "display_name": "ironhack",
   "language": "python",
   "name": "python3"
  },
  "language_info": {
   "codemirror_mode": {
    "name": "ipython",
    "version": 3
   },
   "file_extension": ".py",
   "mimetype": "text/x-python",
   "name": "python",
   "nbconvert_exporter": "python",
   "pygments_lexer": "ipython3",
   "version": "3.12.5"
  }
 },
 "nbformat": 4,
 "nbformat_minor": 5
}
